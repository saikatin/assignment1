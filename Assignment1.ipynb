{
  "nbformat": 4,
  "nbformat_minor": 0,
  "metadata": {
    "colab": {
      "provenance": []
    },
    "kernelspec": {
      "name": "python3",
      "display_name": "Python 3"
    },
    "language_info": {
      "name": "python"
    }
  },
  "cells": [
    {
      "cell_type": "markdown",
      "source": [
        " 1. What are data structures, and why are they important?\n",
        "    \n",
        "  = Data structure are specialized formats for storing,organizing and\n",
        "      acessing collections of data.\n",
        "      ** Importanr**\n",
        "        Space Complexity:\n",
        "         Reduces memory usage (e.g., sparse matrices save space by ignoring zero values)\n",
        "\n",
        "        Code Maintainability:  \n",
        "        Proper data structures make code cleaner, more modular, and easier to debug. For example, using a stack for undo/redo operations in software.  \n",
        "\n",
        "        Time Complexity:\n",
        "        Optimizes operations (e.g., insertion, deletion, search).\n",
        "\n",
        "        Real-World Modeling:    \n",
        "        Networks (e.g., social connections) are represented by graphs.\n",
        "\n",
        "2. Explain the difference between mutable and immutable data types with\n",
        "   examples?\n",
        "\n",
        "   = Mutable data can change any time . like insert data ,delete data,remove\n",
        "     data etc.\n",
        "     but immutable data can not change after once is created.\n",
        "\n",
        "3. What are the main differences between lists and tuples in Python?\n",
        "\n",
        "   = The main different between lists and tuples is lists are mutable while\n",
        "     typles are immutable.\n",
        "\n",
        "4. Describe how dictionaries store data?\n",
        "  \n",
        "   = Dictionaries store data as key-value pairs using a hash table structure.\n",
        "     Each key is passed through a hash function, generating a unique numerical index. This determines where the value is stored in memory. Keys must be unique and immutable (e.g., strings, numbers). Values can be any data type.\n",
        "\n",
        "5. Why might you use a set instead of a list in Python?\n",
        "  \n",
        "   = In Python I might choose to use a set instead of a list for several reasons. Becacuse Sets automatically enforce uniqueness. If you need a collection where no duplicates are allowed, a set is perfect because it only stores distinct elements. With a list, you have to manually check for and remove duplicates, which takes extra effort.For large datasets where uniqueness and lookup speed are priorities, sets can be more efficient than lists.\n",
        "\n",
        "6. What is a string in Python, and how is it different from a list?\n",
        "   = In python a string is a sequence of characters used to represent text.It is one of most fundamental data types and it is created by enclosinng characters in quotes.   \n",
        "    \n",
        "    - list is mutable where string is immutable.\n",
        "\n",
        "7. How do tuples ensure data integrity in Python?\n",
        "   = Tupple is immutable so we can't modify it's element that's how it ensures data integrity.\n",
        "\n",
        "8.  What is a hash table, and how does it relate to dictionaries in Python?\n",
        "\n",
        "   = A hash table is a data structure that stores key-value pairs in a way that allows for efficient lookup, insertion, and deletion. It works by using a hash function to compute an index (or \"hash\") from the key, which determines where the corresponding value is stored in an underlying array.\n",
        "\n",
        "   In Python, dictionaries (\"dicts\") are essentially hash tables under the hood. When you create a dictionary like my_dict = {\"apple\": 1, \"banana\": 2}, Python uses a hash table to manage the key-value pairs.\n",
        "\n",
        "9. Can lists contain different data types in Python?\n",
        "   = Yes , in python lists contain different data type.\n",
        "\n",
        "10. Explain why strings are immutable in Python?\n",
        "\n",
        "   = Becauuse strings can not be modifified.\n",
        "\n",
        "11. What advantages do dictionaries offer over lists for certain tasks?\n",
        "\n",
        "   = Dictionaries offer several advantages over lists for specific tasks, particularly when it comes to organizing and accessing data efficiently.\n",
        "   lists shine when order matters (e.g., a sequence of events) or when you just need a simple, iterable collection. Dictionaries are overkill for those cases.\n",
        "   For example, if you are tracking inventory (e.g., {\"apple\": 10, \"banana\": 5}), a dictionary lets you instantly check or update the stock of \"apple\" without caring about its position. In a list like [(\"apple\", 10), (\"banana\", 5)], you have to search for \"apple\" first, which gets inefficient as the list grows.\n",
        "\n",
        "12. Describe a scenario where using a tuple would be preferable over a list?   \n",
        "\n",
        "   = A tuple is preferable over a list in scenarios where you need an immutable, ordered collection of items that shouldn not change after creation.\n",
        "     Here is a example:Imagine you are writing a program to store geographic coordinates—latitude and longitude—for a set of fixed locations, like the positions of major cities. You might represent each coordinate pair as a tuple, such as (38.7198, -70.0025) for New York City. That  why a tuple makes sense over a list.\n",
        "\n",
        "13.  How do sets handle duplicate values in Python?\n",
        "\n",
        "   = In set duplicate values are automatically rermove in python.set only allow distinct and unique data .\n",
        "\n",
        "14.  How does the “in” keyword work differently for lists and dictionaries?\n",
        "\n",
        "   = In Python, the in keyword is used to check for membership—whether an element exists within a collection—but its behavior differs between lists and dictionaries due to their underlying structures and purposes.\n",
        "   For a list, the in keyword checks if a specific value is present among the list is elements. It searches through the list sequentially, comparing the target value to each item.\n",
        "   where a dictionary, the in keyword checks if a specific key exists in the dictionary. It does not search values.\n",
        "\n",
        "15. Can you modify the elements of a tuple? Explain why or why not?\n",
        "\n",
        "   = no , tuple can not modify.Because tuple is immutable , their elements can not be modified added or remove after creation.\n",
        "\n",
        "16. What is a nested dictionary, and give an example of its use case\n",
        "\n",
        "   =A nested dictionary is a dictionary that contains other dictionaries as values. This allows you to organize data hierarchically, making it useful for representing complex, structured information.\n",
        "\n",
        "   example:\n",
        "   employees = {\n",
        "    \"emp_101\": {\n",
        "        \"name\": \"Alice\",\n",
        "        \"age\": 30,\n",
        "        \"department\": \"Engineering\",\n",
        "        \"contact\": {\n",
        "            \"email\": \"alice@gmail.com\",\n",
        "            \"phone\": \"1234\"\n",
        "        }\n",
        "    },\n",
        "    \"emp_102\": {\n",
        "        \"name\": \"Bob\",\n",
        "        \"age\": 28,\n",
        "        \"department\": \"Marketing\"\n",
        "        \"contact\": {\n",
        "            \"email\": \"bob@gmailcom\",\n",
        "            \"phone\": \"4567\"\n",
        "        }\n",
        "    }\n",
        "}\n",
        "\n",
        "17. Describe the time complexity of accessing elements in a dictionary?\n",
        "\n",
        "   = The time complexity of accessing elements in a dictionary (e.g., Python's dict) is O(1) average-case and O(n) worst-case. This behavior arises because dictionaries are typically implemented using hash tables:\n",
        "\n",
        "18. In what situations are lists preferred over dictionaries?\n",
        "   \n",
        "   = Lists are preferred over dictionaries in situations where you need an ordered collection of items that can be accessed by their position rather than by a specific key.\n",
        "\n",
        "19.  Why are dictionaries considered unordered, and how does that affect data\n",
        "   retrieval?\n",
        "\n",
        "   = Dictionaries are considered unordered because, historically and conceptually, they don ot guarantee a specific sequence for their key-value pairs. This stems from their design: dictionaries (or hash maps in many languages) prioritize fast lookups using a hash function, which maps keys to memory locations in a way that does not inherently preserve insertion order. The hash function scatters keys across an internal table, optimizing for retrieval speed rather than maintaining a predictable sequence.\n",
        "\n",
        "20. Explain the difference between a list and a dictionary in terms of data\n",
        "     retrieval?\n",
        "     = Lists store items in a specific, sequential order, and you retrieve data using an integer index that corresponds to an item’s position (e.g., list[2] gets the third item.\n",
        "     where Dictionaries store data as key-value pairs, and you retrieve values using a unique key (e.g., dict[\"name\"] gets the value tied to \"name\").\n",
        "\n"
      ],
      "metadata": {
        "id": "bNQQcR6-jaaZ"
      }
    },
    {
      "cell_type": "code",
      "source": [
        "                                                             #  practical question\n"
      ],
      "metadata": {
        "id": "rpzzHkYn_3uG"
      },
      "execution_count": null,
      "outputs": []
    },
    {
      "cell_type": "code",
      "source": [
        "# 1.  Write a code to create a string with your name and print it\n",
        "string =  \"my name is saikat\"\n",
        "print(string)"
      ],
      "metadata": {
        "colab": {
          "base_uri": "https://localhost:8080/"
        },
        "id": "a3ZoNDf8AWz5",
        "outputId": "856d0738-7847-49fe-9991-d7287b4c5269"
      },
      "execution_count": null,
      "outputs": [
        {
          "output_type": "stream",
          "name": "stdout",
          "text": [
            "my name is saikat\n"
          ]
        }
      ]
    },
    {
      "cell_type": "code",
      "source": [
        "# 2.  Write a code to find the length of the string \"Hello World\"\n",
        "s = \"hello world\"\n",
        "len(s)"
      ],
      "metadata": {
        "colab": {
          "base_uri": "https://localhost:8080/"
        },
        "id": "tuVzCNiQA3ad",
        "outputId": "c90a8871-4076-49f0-f466-5ed633b566c4"
      },
      "execution_count": null,
      "outputs": [
        {
          "output_type": "execute_result",
          "data": {
            "text/plain": [
              "11"
            ]
          },
          "metadata": {},
          "execution_count": 3
        }
      ]
    },
    {
      "cell_type": "code",
      "source": [
        "# 3.  Write a code to slice the first 3 characters from the string \"Python Programming\"\n",
        "str_ing = \"python programming\"\n",
        "str_ing[0:3]"
      ],
      "metadata": {
        "colab": {
          "base_uri": "https://localhost:8080/",
          "height": 36
        },
        "id": "VcrdF3ygBgNR",
        "outputId": "837c9a8d-7778-436e-c114-40904e2adf10"
      },
      "execution_count": null,
      "outputs": [
        {
          "output_type": "execute_result",
          "data": {
            "text/plain": [
              "'pyt'"
            ],
            "application/vnd.google.colaboratory.intrinsic+json": {
              "type": "string"
            }
          },
          "metadata": {},
          "execution_count": 4
        }
      ]
    },
    {
      "cell_type": "markdown",
      "source": [],
      "metadata": {
        "id": "viBwWhqfjagE"
      }
    },
    {
      "cell_type": "code",
      "source": [
        "# 4.  Write a code to convert the string \"hello\" to uppercase\n",
        "h = \"hello\"\n",
        "print(h.upper())"
      ],
      "metadata": {
        "colab": {
          "base_uri": "https://localhost:8080/"
        },
        "id": "z-BGlQ1YB1hm",
        "outputId": "25aebb7f-96a6-4223-aad2-a2da028aeb92"
      },
      "execution_count": null,
      "outputs": [
        {
          "output_type": "stream",
          "name": "stdout",
          "text": [
            "HELLO\n"
          ]
        }
      ]
    },
    {
      "cell_type": "code",
      "source": [
        "# 5.  Write a code to replace the word \"apple\" with \"orange\" in the string \"I like apple\"\n",
        "i = \"i like apple\"\n",
        "print(i.replace(\"apple\",\"orange\"))"
      ],
      "metadata": {
        "colab": {
          "base_uri": "https://localhost:8080/"
        },
        "id": "2q6PH6LwCjXW",
        "outputId": "102aa372-7cd4-44d9-9717-13da5511b016"
      },
      "execution_count": null,
      "outputs": [
        {
          "output_type": "stream",
          "name": "stdout",
          "text": [
            "i like orange\n"
          ]
        }
      ]
    },
    {
      "cell_type": "code",
      "source": [
        "# 6.  Write a code to create a list with numbers 1 to 5 and print it\n",
        "list = [1,2,3,4,5]\n",
        "print(list)"
      ],
      "metadata": {
        "colab": {
          "base_uri": "https://localhost:8080/"
        },
        "id": "jqsfJ845Cu2i",
        "outputId": "d98ccdfc-122d-4fb4-89e0-e137549900eb"
      },
      "execution_count": null,
      "outputs": [
        {
          "output_type": "stream",
          "name": "stdout",
          "text": [
            "[1, 2, 3, 4, 5]\n"
          ]
        }
      ]
    },
    {
      "cell_type": "code",
      "source": [
        "# 7.  Write a code to append the number 10 to the list [1, 2, 3, 4]\n",
        "my_list = [1,2,3,4]\n",
        "my_list.append(10)\n",
        "print(my_list)"
      ],
      "metadata": {
        "colab": {
          "base_uri": "https://localhost:8080/"
        },
        "id": "rWXDSgu5DtbY",
        "outputId": "09f0dbbc-c715-468d-d31c-7debb43d3b46"
      },
      "execution_count": null,
      "outputs": [
        {
          "output_type": "stream",
          "name": "stdout",
          "text": [
            "[1, 2, 3, 4, 10]\n"
          ]
        }
      ]
    },
    {
      "cell_type": "code",
      "source": [
        "# 8.  Write a code to remove the number 3 from the list [1, 2, 3, 4, 5]\n",
        "lis = [1,2,3,4,5]\n",
        "lis.remove(3)\n",
        "print(lis)"
      ],
      "metadata": {
        "colab": {
          "base_uri": "https://localhost:8080/"
        },
        "id": "E7WhY_q4EDyA",
        "outputId": "77d7c1db-9309-478f-a923-e47d6073990e"
      },
      "execution_count": null,
      "outputs": [
        {
          "output_type": "stream",
          "name": "stdout",
          "text": [
            "[1, 2, 4, 5]\n"
          ]
        }
      ]
    },
    {
      "cell_type": "code",
      "source": [
        "# 9.  Write a code to access the second element in the list ['a', 'b', 'c', 'd']\n",
        "list = [\"a\",\"b\",\"c\",\"d\"]\n",
        "list[1]"
      ],
      "metadata": {
        "colab": {
          "base_uri": "https://localhost:8080/",
          "height": 36
        },
        "id": "jHMDnoJUEYS6",
        "outputId": "6395e366-460f-48fe-b4ce-8cded3f80bf9"
      },
      "execution_count": null,
      "outputs": [
        {
          "output_type": "execute_result",
          "data": {
            "text/plain": [
              "'b'"
            ],
            "application/vnd.google.colaboratory.intrinsic+json": {
              "type": "string"
            }
          },
          "metadata": {},
          "execution_count": 13
        }
      ]
    },
    {
      "cell_type": "code",
      "source": [
        "# 10.  Write a code to reverse the list [10, 20, 30, 40, 50].\n",
        "List = [10,20,30,40,50]\n",
        "reversed_list = List[::-1]\n",
        "print(reversed_list)"
      ],
      "metadata": {
        "colab": {
          "base_uri": "https://localhost:8080/"
        },
        "id": "BeAs2SMlFXVZ",
        "outputId": "ecbf0eb4-5756-4060-ad80-08bac970d9d8"
      },
      "execution_count": null,
      "outputs": [
        {
          "output_type": "stream",
          "name": "stdout",
          "text": [
            "[50, 40, 30, 20, 10]\n"
          ]
        }
      ]
    },
    {
      "cell_type": "code",
      "source": [
        "# 11. 11. Write a code to create a tuple with the elements 100, 200, 300 and print it.\n",
        "tuple = (100,200,300)\n",
        "print(tuple)\n",
        "type(tuple)"
      ],
      "metadata": {
        "id": "rB24pfJ7GJ3c",
        "colab": {
          "base_uri": "https://localhost:8080/"
        },
        "outputId": "a0dd631e-5c30-425d-fab3-121cdd1c6e79"
      },
      "execution_count": 17,
      "outputs": [
        {
          "output_type": "stream",
          "name": "stdout",
          "text": [
            "(100, 200, 300)\n"
          ]
        },
        {
          "output_type": "execute_result",
          "data": {
            "text/plain": [
              "tuple"
            ]
          },
          "metadata": {},
          "execution_count": 17
        }
      ]
    },
    {
      "cell_type": "code",
      "source": [
        "# 12. Write a code to access the second-to-last element of the tuple ('red', 'green', 'blue', 'yellow').\n",
        "colour = (\"red\",\"green\",\"blue\",\"yellow\")\n",
        "colour[1:4]"
      ],
      "metadata": {
        "colab": {
          "base_uri": "https://localhost:8080/"
        },
        "id": "yYIxXuEYSkzY",
        "outputId": "57c1058d-4f58-4636-af88-e0c9b016fa0a"
      },
      "execution_count": 18,
      "outputs": [
        {
          "output_type": "execute_result",
          "data": {
            "text/plain": [
              "('green', 'blue', 'yellow')"
            ]
          },
          "metadata": {},
          "execution_count": 18
        }
      ]
    },
    {
      "cell_type": "code",
      "source": [
        "# 13. Write a code to find the minimum number in the tuple (10, 20, 5, 15).\n",
        "num = (10,20,5,15)\n",
        "min(num)"
      ],
      "metadata": {
        "colab": {
          "base_uri": "https://localhost:8080/"
        },
        "id": "iEt3IqPrTCuT",
        "outputId": "75c565cf-9fa0-4b44-dcf4-054bf379f386"
      },
      "execution_count": 19,
      "outputs": [
        {
          "output_type": "execute_result",
          "data": {
            "text/plain": [
              "5"
            ]
          },
          "metadata": {},
          "execution_count": 19
        }
      ]
    },
    {
      "cell_type": "code",
      "source": [
        "#  14. Write a code to find the index of the element \"cat\" in the tuple ('dog', 'cat', 'rabbit').\n",
        "tuple = (\"dog\",\"cat\",\"rabbit\")\n",
        "tuple.index(\"cat\")"
      ],
      "metadata": {
        "colab": {
          "base_uri": "https://localhost:8080/"
        },
        "id": "Js2e7Lf4TSZn",
        "outputId": "b3242f16-d5ce-4015-8bbc-a2913db81424"
      },
      "execution_count": 20,
      "outputs": [
        {
          "output_type": "execute_result",
          "data": {
            "text/plain": [
              "1"
            ]
          },
          "metadata": {},
          "execution_count": 20
        }
      ]
    },
    {
      "cell_type": "code",
      "source": [
        "#  15. Write a code to create a tuple containing three different fruits and check if \"kiwi\" is in it.\n",
        "fruits = (\"apple\",\"banana\",\"watermelon\")\n",
        "\"kiwi\" in fruits"
      ],
      "metadata": {
        "colab": {
          "base_uri": "https://localhost:8080/"
        },
        "id": "pDiCmvmQTdFf",
        "outputId": "f09bd96f-7d60-4420-c373-d2d2ad1f44ef"
      },
      "execution_count": 22,
      "outputs": [
        {
          "output_type": "execute_result",
          "data": {
            "text/plain": [
              "False"
            ]
          },
          "metadata": {},
          "execution_count": 22
        }
      ]
    },
    {
      "cell_type": "code",
      "source": [
        "#  16. Write a code to create a set with the elements 'a', 'b', 'c' and print it.\n",
        "element = {\"a\",\"b\",\"c\"}\n",
        "print(element)\n",
        "type(element)"
      ],
      "metadata": {
        "colab": {
          "base_uri": "https://localhost:8080/"
        },
        "id": "mxAV3v7XTpQq",
        "outputId": "1f2cb3d9-401f-4dea-9057-701a744759e5"
      },
      "execution_count": 23,
      "outputs": [
        {
          "output_type": "stream",
          "name": "stdout",
          "text": [
            "{'b', 'a', 'c'}\n"
          ]
        },
        {
          "output_type": "execute_result",
          "data": {
            "text/plain": [
              "set"
            ]
          },
          "metadata": {},
          "execution_count": 23
        }
      ]
    },
    {
      "cell_type": "code",
      "source": [
        "#  17. Write a code to clear all elements from the set {1, 2, 3, 4, 5}.\n",
        "set = {1,2,3,4,5}\n",
        "set.clear()\n",
        "print(set)"
      ],
      "metadata": {
        "colab": {
          "base_uri": "https://localhost:8080/"
        },
        "id": "wQKBPpxjT7VX",
        "outputId": "76418064-bd12-4842-dfbe-1586527e01b6"
      },
      "execution_count": 24,
      "outputs": [
        {
          "output_type": "stream",
          "name": "stdout",
          "text": [
            "set()\n"
          ]
        }
      ]
    },
    {
      "cell_type": "code",
      "source": [
        "#  18. Write a code to remove the element 4 from the set {1, 2, 3, 4}.\n",
        "set = {1,2,3,4}\n",
        "set.remove(4)\n",
        "print(set)"
      ],
      "metadata": {
        "colab": {
          "base_uri": "https://localhost:8080/"
        },
        "id": "AJBQjNQuUEjp",
        "outputId": "ad37b853-18a8-4869-ad0f-21bbb92fc7b9"
      },
      "execution_count": 25,
      "outputs": [
        {
          "output_type": "stream",
          "name": "stdout",
          "text": [
            "{1, 2, 3}\n"
          ]
        }
      ]
    },
    {
      "cell_type": "code",
      "source": [
        "#  19. Write a code to find the union of two sets {1, 2, 3} and {3, 4, 5}.\n",
        "a = {1,2,3}\n",
        "b = {3,4,5}\n",
        "a.union(b)"
      ],
      "metadata": {
        "colab": {
          "base_uri": "https://localhost:8080/"
        },
        "id": "Ai-322joUNcr",
        "outputId": "662041e3-8597-4738-a846-fad3b9bba3b6"
      },
      "execution_count": 26,
      "outputs": [
        {
          "output_type": "execute_result",
          "data": {
            "text/plain": [
              "{1, 2, 3, 4, 5}"
            ]
          },
          "metadata": {},
          "execution_count": 26
        }
      ]
    },
    {
      "cell_type": "code",
      "source": [
        "\"\"\"another way\"\"\"\n",
        "a|b"
      ],
      "metadata": {
        "colab": {
          "base_uri": "https://localhost:8080/"
        },
        "id": "0ZwLpYqZUVvW",
        "outputId": "f0289210-222a-4284-96c5-80701b1c2e15"
      },
      "execution_count": 28,
      "outputs": [
        {
          "output_type": "execute_result",
          "data": {
            "text/plain": [
              "{1, 2, 3, 4, 5}"
            ]
          },
          "metadata": {},
          "execution_count": 28
        }
      ]
    },
    {
      "cell_type": "code",
      "source": [
        "#  20. Write a code to find the intersection of two sets {1, 2, 3} and {2, 3, 4}.\n",
        "c = {1,2,3}\n",
        "d = {2,3,4}\n",
        "c.intersection(d)"
      ],
      "metadata": {
        "colab": {
          "base_uri": "https://localhost:8080/"
        },
        "id": "0wHpjGzWUYuS",
        "outputId": "d44a2673-4bbb-4e13-eb27-02e2bbdf3575"
      },
      "execution_count": 31,
      "outputs": [
        {
          "output_type": "execute_result",
          "data": {
            "text/plain": [
              "{2, 3}"
            ]
          },
          "metadata": {},
          "execution_count": 31
        }
      ]
    },
    {
      "cell_type": "code",
      "source": [
        "\"\"\"another way\"\"\"\n",
        "c&d"
      ],
      "metadata": {
        "colab": {
          "base_uri": "https://localhost:8080/"
        },
        "id": "LAwwp2ABU5v8",
        "outputId": "95974c7d-328e-4cbf-bd02-c02131f23aaf"
      },
      "execution_count": 39,
      "outputs": [
        {
          "output_type": "execute_result",
          "data": {
            "text/plain": [
              "{2, 3}"
            ]
          },
          "metadata": {},
          "execution_count": 39
        }
      ]
    },
    {
      "cell_type": "code",
      "source": [
        "# 21. Write a code to create a dictionary with the keys \"name\", \"age\", and \"city\", and print it.\n",
        "my_dict = {\"name\":\"saikat\",\"age\":21,\"city\":\"kolkata\"}\n",
        "print(my_dict)"
      ],
      "metadata": {
        "colab": {
          "base_uri": "https://localhost:8080/"
        },
        "id": "50grSPbHVOc7",
        "outputId": "2192fe20-8b7c-4772-c0f5-78d70e673ad5"
      },
      "execution_count": 40,
      "outputs": [
        {
          "output_type": "stream",
          "name": "stdout",
          "text": [
            "{'name': 'saikat', 'age': 21, 'city': 'kolkata'}\n"
          ]
        }
      ]
    },
    {
      "cell_type": "code",
      "source": [
        "#  22. Write a code to add a new key-value pair \"country\": \"USA\" to the dictionary {'name': 'John', 'age': 25}.\n",
        "dict = {\"name\":\"john\",\"age\":25}\n",
        "dict[\"country\"] = \"usa\"\n",
        "print(dict)"
      ],
      "metadata": {
        "colab": {
          "base_uri": "https://localhost:8080/"
        },
        "id": "R_m_ZaOoWE19",
        "outputId": "3ece9c6e-c92e-4592-9b91-0213eb7d5769"
      },
      "execution_count": 41,
      "outputs": [
        {
          "output_type": "stream",
          "name": "stdout",
          "text": [
            "{'name': 'john', 'age': 25, 'country': 'usa'}\n"
          ]
        }
      ]
    },
    {
      "cell_type": "code",
      "source": [
        "#  23. Write a code to access the value associated with the key \"name\" in the dictionary {'name': 'Alice', 'age': 30}.\n",
        "dict = {\"name\":\"alice\",\"age\":30}\n",
        "dict[\"name\"]"
      ],
      "metadata": {
        "colab": {
          "base_uri": "https://localhost:8080/",
          "height": 36
        },
        "id": "Af9o0UH0WWRP",
        "outputId": "5e4094a9-886b-4585-bc52-fd737d20c60a"
      },
      "execution_count": 42,
      "outputs": [
        {
          "output_type": "execute_result",
          "data": {
            "text/plain": [
              "'alice'"
            ],
            "application/vnd.google.colaboratory.intrinsic+json": {
              "type": "string"
            }
          },
          "metadata": {},
          "execution_count": 42
        }
      ]
    },
    {
      "cell_type": "code",
      "source": [
        "#  24. Write a code to remove the key \"age\" from the dictionary {'name': 'Bob', 'age': 22, 'city': 'New York'}.\n",
        "dic = {\"name\":\"bob\",\"age\":22,\"city\":\"new york\"}\n",
        "dic.pop(\"age\")\n",
        "print(dic)"
      ],
      "metadata": {
        "colab": {
          "base_uri": "https://localhost:8080/"
        },
        "id": "8W9VpyEOWjCR",
        "outputId": "39504507-06b5-4f38-dc3f-9c69ac14f9df"
      },
      "execution_count": 43,
      "outputs": [
        {
          "output_type": "stream",
          "name": "stdout",
          "text": [
            "{'name': 'bob', 'city': 'new york'}\n"
          ]
        }
      ]
    },
    {
      "cell_type": "code",
      "source": [
        "#  25. Write a code to check if the key \"city\" exists in the dictionary {'name': 'Alice', 'city': 'Paris'}.\n",
        "dict = {\"name\":\"alice\",\"city\":\"paris\"}\n",
        "\"city\" in dict"
      ],
      "metadata": {
        "colab": {
          "base_uri": "https://localhost:8080/"
        },
        "id": "8kJNzvdUWsqA",
        "outputId": "2636ae87-2b1e-4432-c4b5-76c6e7fecb72"
      },
      "execution_count": 44,
      "outputs": [
        {
          "output_type": "execute_result",
          "data": {
            "text/plain": [
              "True"
            ]
          },
          "metadata": {},
          "execution_count": 44
        }
      ]
    },
    {
      "cell_type": "code",
      "source": [
        "#  26. Write a code to create a list, a tuple, and a dictionary, and print them all.\n",
        "my_list = [1,2,3,4]\n",
        "my_tuple = (1,2,3,4)\n",
        "my_dict = {\"name\":\"saikat\",\"age\":26}\n",
        "print(\"list\",my_list)\n",
        "print(\"tuple\",my_tuple)\n",
        "print(\"dictionary\",my_dict)"
      ],
      "metadata": {
        "colab": {
          "base_uri": "https://localhost:8080/"
        },
        "id": "PDOSsoLBW4lz",
        "outputId": "27b67d2f-0240-4184-99ac-c6455784d538"
      },
      "execution_count": 46,
      "outputs": [
        {
          "output_type": "stream",
          "name": "stdout",
          "text": [
            "list [1, 2, 3, 4]\n",
            "tuple (1, 2, 3, 4)\n",
            "dictionary {'name': 'saikat', 'age': 26}\n"
          ]
        }
      ]
    },
    {
      "cell_type": "code",
      "source": [
        "#  27. Write a code to create a list of 5 random numbers between 1 and 100, sort it in ascending order, and print the  result.(replaced)\n",
        "import random\n",
        "random_list = [random.randint(1,100) for _ in range(5)]\n",
        "random_list.sort()\n",
        "print(random_list)"
      ],
      "metadata": {
        "colab": {
          "base_uri": "https://localhost:8080/"
        },
        "id": "FZV5IkcNXpK1",
        "outputId": "d9b5b6ab-9199-4718-f15d-17281de99dd0"
      },
      "execution_count": 52,
      "outputs": [
        {
          "output_type": "stream",
          "name": "stdout",
          "text": [
            "[62, 74, 88, 98, 98]\n"
          ]
        }
      ]
    },
    {
      "cell_type": "code",
      "source": [
        "# 28. Write a code to create a list with strings and print the element at the third index.\n",
        "my_list = [\"apple\",\"banana\",\"orange\",\"grapes\"]\n",
        "my_list[2]"
      ],
      "metadata": {
        "colab": {
          "base_uri": "https://localhost:8080/",
          "height": 36
        },
        "id": "xyY3cuCGYRA8",
        "outputId": "0c8c5308-f4fc-4252-d4af-d0b03832d938"
      },
      "execution_count": 53,
      "outputs": [
        {
          "output_type": "execute_result",
          "data": {
            "text/plain": [
              "'orange'"
            ],
            "application/vnd.google.colaboratory.intrinsic+json": {
              "type": "string"
            }
          },
          "metadata": {},
          "execution_count": 53
        }
      ]
    },
    {
      "cell_type": "code",
      "source": [
        "\"\"\" another way\"\"\"\n",
        "my_list[-2]\n"
      ],
      "metadata": {
        "colab": {
          "base_uri": "https://localhost:8080/",
          "height": 36
        },
        "id": "Z3le8BfsZtoK",
        "outputId": "ddad5cd4-e415-4916-a718-e911c8af5e4d"
      },
      "execution_count": 54,
      "outputs": [
        {
          "output_type": "execute_result",
          "data": {
            "text/plain": [
              "'orange'"
            ],
            "application/vnd.google.colaboratory.intrinsic+json": {
              "type": "string"
            }
          },
          "metadata": {},
          "execution_count": 54
        }
      ]
    },
    {
      "cell_type": "code",
      "source": [
        "#  29. Write a code to combine two dictionaries into one and print the result.\n",
        "dict1 = {\"name\":\"saikat\",\"age\":26}\n",
        "dict2 = {\"city\":\"kolkata\",\"country\":\"india\"}\n",
        "dict1.update(dict2)\n",
        "print(dict1)"
      ],
      "metadata": {
        "colab": {
          "base_uri": "https://localhost:8080/"
        },
        "id": "akjHpLQbZx8D",
        "outputId": "6012237a-55ac-4061-b256-b1907b946e4b"
      },
      "execution_count": 55,
      "outputs": [
        {
          "output_type": "stream",
          "name": "stdout",
          "text": [
            "{'name': 'saikat', 'age': 26, 'city': 'kolkata', 'country': 'india'}\n"
          ]
        }
      ]
    },
    {
      "cell_type": "code",
      "source": [
        "#  30. Write a code to convert a list of strings into a set.\n",
        "list = [\"apple\",\"mango\"]\n",
        "print(str(list))\n",
        "type (str(list))"
      ],
      "metadata": {
        "colab": {
          "base_uri": "https://localhost:8080/"
        },
        "id": "C1THBG25aOS_",
        "outputId": "2c6d66b7-7b17-4b41-bdb0-6dedb7ca8f30"
      },
      "execution_count": 61,
      "outputs": [
        {
          "output_type": "stream",
          "name": "stdout",
          "text": [
            "['apple', 'mango']\n"
          ]
        },
        {
          "output_type": "execute_result",
          "data": {
            "text/plain": [
              "str"
            ]
          },
          "metadata": {},
          "execution_count": 61
        }
      ]
    },
    {
      "cell_type": "code",
      "source": [],
      "metadata": {
        "id": "oGXR3kDBayMo"
      },
      "execution_count": null,
      "outputs": []
    }
  ]
}